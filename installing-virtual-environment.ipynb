{
 "cells": [
  {
   "cell_type": "markdown",
   "id": "7da3f34d",
   "metadata": {},
   "source": [
    "# 🐍 Installing and Managing Python Virtual Environments\n",
    "> A clean start for every Python project—just like using a new notebook for a new subject."
   ]
  },
  {
   "cell_type": "markdown",
   "id": "b59af05d",
   "metadata": {},
   "source": [
    "## 🎯 Why Use a Virtual Environment?\n",
    "Each project may require different versions of packages. A virtual environment keeps them isolated and reproducible.\n",
    "\n",
    "- Isolates dependencies per project\n",
    "- Avoids version conflicts\n",
    "- Makes sharing and deploying projects easier"
   ]
  },
  {
   "cell_type": "markdown",
   "id": "9dd61e1a",
   "metadata": {},
   "source": [
    "## 💡 Real-World Example\n",
    "You're a freelance developer:\n",
    "\n",
    "- Client A wants Plotly 4.5\n",
    "- Client B needs Plotly 5.15\n",
    "\n",
    "Without a virtual environment, one project might break the other. A virtual environment keeps each project self-contained."
   ]
  },
  {
   "cell_type": "markdown",
   "id": "8f2cb90d",
   "metadata": {},
   "source": [
    "## 🧰 Tools We’ll Use\n",
    "- `venv`: to create the environment\n",
    "- `pip`: to install packages\n",
    "- `requirements.txt`: to save dependencies"
   ]
  },
  {
   "cell_type": "code",
   "execution_count": null,
   "id": "35633617",
   "metadata": {},
   "outputs": [],
   "source": [
    "# Check Python version\n",
    "!python3 --version"
   ]
  },
  {
   "cell_type": "markdown",
   "id": "4240d336",
   "metadata": {},
   "source": [
    "## 📁 Create a New Folder (run in terminal)"
   ]
  },
  {
   "cell_type": "code",
   "execution_count": null,
   "id": "a236cea9",
   "metadata": {},
   "outputs": [],
   "source": [
    "# mkdir myproject\n",
    "# cd myproject"
   ]
  },
  {
   "cell_type": "markdown",
   "id": "dc84ff48",
   "metadata": {},
   "source": [
    "## 🌱 Create a Virtual Environment"
   ]
  },
  {
   "cell_type": "code",
   "execution_count": null,
   "id": "244cf61f",
   "metadata": {},
   "outputs": [],
   "source": [
    "python3 -m venv venv"
   ]
  },
  {
   "cell_type": "markdown",
   "id": "7a6d5ffc",
   "metadata": {},
   "source": [
    "## ▶️ Activate the Virtual Environment\n",
    "### macOS/Linux:\n",
    "`source venv/bin/activate`\n",
    "\n",
    "### Windows:\n",
    "`venv\\Scripts\\activate`"
   ]
  },
  {
   "cell_type": "markdown",
   "id": "04387297",
   "metadata": {},
   "source": [
    "## ⬇️ Install Dependencies"
   ]
  },
  {
   "cell_type": "code",
   "execution_count": null,
   "id": "ffa23040",
   "metadata": {},
   "outputs": [],
   "source": [
    "pip install pandas matplotlib"
   ]
  },
  {
   "cell_type": "markdown",
   "id": "3ffd2571",
   "metadata": {},
   "source": [
    "## 📜 Save the Setup for Later"
   ]
  },
  {
   "cell_type": "code",
   "execution_count": null,
   "id": "34aca510",
   "metadata": {},
   "outputs": [],
   "source": [
    "pip freeze > requirements.txt"
   ]
  },
  {
   "cell_type": "markdown",
   "id": "c976e45b",
   "metadata": {},
   "source": [
    "## 💤 Deactivate the Environment"
   ]
  },
  {
   "cell_type": "code",
   "execution_count": null,
   "id": "8a6e4f16",
   "metadata": {},
   "outputs": [],
   "source": [
    "deactivate"
   ]
  },
  {
   "cell_type": "markdown",
   "id": "c2021ad2",
   "metadata": {},
   "source": [
    "## 🔁 Reuse the Environment Later\n",
    "```bash\n",
    "python3 -m venv venv\n",
    "source venv/bin/activate\n",
    "pip install -r requirements.txt\n",
    "```"
   ]
  },
  {
   "cell_type": "markdown",
   "id": "2fc23ecc",
   "metadata": {},
   "source": [
    "## ✅ Summary\n",
    "- Use virtual environments for clean and safe Python setups\n",
    "- Keep your dependencies isolated\n",
    "- Use `requirements.txt` to share setups with others"
   ]
  }
 ],
 "metadata": {},
 "nbformat": 4,
 "nbformat_minor": 5
}
