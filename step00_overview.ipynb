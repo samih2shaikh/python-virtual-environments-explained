{
 "cells": [
  {
   "cell_type": "markdown",
   "id": "61e6f291",
   "metadata": {},
   "source": [
    "# Welcome, curious coder!\n",
    "\n",
    "You're about to walk through a hands-on journey of setting up a Python virtual environment — not just with commands, but through the eyes of someone who’s been there."
   ]
  },
  {
   "cell_type": "markdown",
   "id": "37223732",
   "metadata": {},
   "source": [
    "## 👨‍💻 Who is Samih?\n",
    "\n",
    "Meet **Samih**, a detail-obsessed freelance *Computational Data Scientist* who approaches every project like a production-grade experiment. He blends scientific thinking with real-world application. He builds automation tools, writes clean code, and thrives on reproducibility.\n",
    "\n",
    "He’s worked with dozens of clients, faced version conflicts, broken environments, and late-night debugging — until he learned the value of setting things up right from the start.\n",
    "\n",
    "> “Great code doesn’t matter if it doesn’t run everywhere it needs to.”\n",
    "\n",
    "This guide follows the same steps Samih uses to:\n",
    "- Isolate dependencies for every project\n",
    "- Avoid breaking one app while working on another\n",
    "- Ensure reliable collaboration with teammates"
   ]
  },
  {
   "cell_type": "markdown",
   "id": "0c53ab29",
   "metadata": {},
   "source": [
    "## 🚦 Your Mission\n",
    "\n",
    "You'll walk through the exact steps **Samih** follows when kicking off any new Python project.\n",
    "\n",
    "Instead of one long file, each action is broken into small, focused notebooks that:\n",
    "\n",
    "- Show you **what** to do\n",
    "- Explain **why** you’re doing it\n",
    "- Include **expected output** so you know it’s working\n",
    "\n",
    "You'll learn by doing — and understanding."
   ]
  },
  {
   "cell_type": "markdown",
   "id": "c000d683",
   "metadata": {},
   "source": [
    "## 🔀 Real-World Setup Flow\n",
    "\n",
    "Below is the checklist Samih always follows. Open each notebook in order:\n",
    "\n",
    "1. ✅ [Checking your Python version](step01_check-python-version.ipynb)\n",
    "2. 📁 [Creating Project Directory](step02_create-project-directory.ipynb)\n",
    "3. 🌱 [Creating Virtual Environment](step03_create-virtual-environment.ipynb)\n",
    "4. ▶️ [Activating Environment (macOS/Linux)](step04_activate-environment-macos-linux.ipynb)\n",
    "5. ▶️ [Activating Environment (Windows)](step05_activate-environment-windows.ipynb)\n",
    "6. 📦 [Installing Python Packages](step06_install-python-packages.ipynb)\n",
    "7. 📜 [Freezing to requirements.txt](step07_freeze-environment-requirements.ipynb)\n",
    "8. 💤 [Deactivating the Environment](step08_deactivate-virtual-environment.ipynb)\n",
    "9. 🔁 [Recreate from requirements.txt](step09_recreate-environment-from-requirements.ipynb)\n",
    "\n"
   ]
  },
  {
   "cell_type": "markdown",
   "id": "3823d77f",
   "metadata": {},
   "source": [
    "---\n",
    "📌 Each notebook opens with a quick story, follows up with code, and wraps with what you should see.\n",
    "Just like Samih, by the end of this journey, you’ll have a rock-solid project setup — and the confidence to recreate it for any future job, client, or team.\n",
    "\n",
    "Let's begin!"
   ]
  }
 ],
 "metadata": {
  "language_info": {
   "name": "python"
  }
 },
 "nbformat": 4,
 "nbformat_minor": 5
}
