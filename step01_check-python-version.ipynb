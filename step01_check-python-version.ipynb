{
 "cells": [
  {
   "cell_type": "markdown",
   "id": "94668f18",
   "metadata": {},
   "source": [
    "### ✅ Step 1: Check Python Version"
   ]
  },
  {
   "cell_type": "markdown",
   "id": "f9a324d2",
   "metadata": {},
   "source": [
    "🎯 **Real Talk:** Before anything else, ask yourself: _Do I know exactly which Python version I'm running?_\n",
    "\n",
    "You're about to begin an exciting new freelance project — and just like **Samih**, you start by checking your tools.\n",
    "\n",
    "🧠 _“Never assume your system’s ready — always confirm it.”_"
   ]
  },
  {
   "cell_type": "markdown",
   "id": "6594489e",
   "metadata": {},
   "source": [
    "Run this command below:"
   ]
  },
  {
   "cell_type": "code",
   "execution_count": null,
   "id": "9991edd1",
   "metadata": {},
   "outputs": [],
   "source": [
    "!python3 --version"
   ]
  },
  {
   "cell_type": "markdown",
   "id": "2a3cdb7a",
   "metadata": {},
   "source": [
    "**✅ Expected Output:**\n",
    "```\n",
    "Python 3.x.x\n",
    "```\n",
    "You’re good to go if you see 3.6 or higher!"
   ]
  }
 ],
 "metadata": {},
 "nbformat": 4,
 "nbformat_minor": 5
}
