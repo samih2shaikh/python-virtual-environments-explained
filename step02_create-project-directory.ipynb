{
 "cells": [
  {
   "cell_type": "markdown",
   "id": "bcd5a85a",
   "metadata": {},
   "source": [
    "### 📁 Step 2: Create a Project Directory"
   ]
  },
  {
   "cell_type": "markdown",
   "id": "168f2305",
   "metadata": {},
   "source": [
    "🗂️ **Question:** _Do your projects live in a sea of random folders?_ Be like Samih — start organized.\n",
    "\n",
    "He creates a clean folder for every project. You should too.\n",
    "\n",
    "✨ Pro Tip: Think of this like setting up your lab — clear desk, sharp mind."
   ]
  },
  {
   "cell_type": "code",
   "execution_count": null,
   "id": "573ee7e1",
   "metadata": {},
   "outputs": [],
   "source": [
    "# mkdir myproject\n",
    "# cd myproject"
   ]
  },
  {
   "cell_type": "markdown",
   "id": "c53db8a9",
   "metadata": {},
   "source": [
    "**✅ Expected Output:**\n",
    "A folder named `myproject/` is created. It’s your workspace!"
   ]
  }
 ],
 "metadata": {},
 "nbformat": 4,
 "nbformat_minor": 5
}
