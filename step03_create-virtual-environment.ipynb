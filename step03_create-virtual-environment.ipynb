{
 "cells": [
  {
   "cell_type": "markdown",
   "id": "83ee7d80",
   "metadata": {},
   "source": [
    "### 🌱 Step 3: Create a Virtual Environment"
   ]
  },
  {
   "cell_type": "markdown",
   "id": "843884be",
   "metadata": {},
   "source": [
    "🚧 **Why this matters:**  Imaginbe you're working with two clients:\n",
    "\n",
    "- **Client A** wants a marketing dashboard using **Plotly 4.5** — it has a specific look they love.\n",
    "- **Client B** needs a real-time automation script that relies on **Plotly 5.15** features only available in the latest version.\n",
    "\n",
    "You install Plotly 5.15 for Client B. Then, Client A calls — their dashboard is broken. Why? Because your global setup silently replaced Plotly 4.5 with 5.15. 💥\n",
    "\n",
    "Now you're debugging two projects at once… and losing precious time.\n",
    "\n",
    "🎯 **The fix?** Do what Samih does: create a separate virtual environment for each project. That way, each one gets the exact tools it needs — no collisions, no conflicts.\n",
    "\n",
    "🧪 Let’s create that project-specific environment now:\n"
   ]
  },
  {
   "cell_type": "code",
   "execution_count": null,
   "id": "83e955b2",
   "metadata": {},
   "outputs": [],
   "source": [
    "# use any name for the virtual environment instead of venv_name\n",
    "python3 -m venv venv_name"
   ]
  },
  {
   "cell_type": "markdown",
   "id": "20fedf90",
   "metadata": {},
   "source": [
    "**✅ Expected Output:**\n",
    "You’ll see a new folder called `venv/`. That’s your personal Python bubble."
   ]
  }
 ],
 "metadata": {
  "language_info": {
   "name": "python"
  }
 },
 "nbformat": 4,
 "nbformat_minor": 5
}
