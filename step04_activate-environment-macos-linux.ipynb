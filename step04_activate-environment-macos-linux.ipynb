{
 "cells": [
  {
   "cell_type": "markdown",
   "id": "e5d1193f",
   "metadata": {},
   "source": [
    "### ▶️ Step 4: Activate the Virtual Environment (macOS/Linux)"
   ]
  },
  {
   "cell_type": "markdown",
   "id": "aec95986",
   "metadata": {},
   "source": [
    "🧙 **Magic begins here.** You're about to enter the virtual environment — just like wearing a lab coat before an experiment.\n",
    "\n",
    "Samih always activates his environment before coding. Why? Because clean inputs = reliable outputs."
   ]
  },
  {
   "cell_type": "code",
   "execution_count": null,
   "id": "80192256",
   "metadata": {},
   "outputs": [],
   "source": [
    "source venv/bin/activate"
   ]
  },
  {
   "cell_type": "markdown",
   "id": "be70fd84",
   "metadata": {},
   "source": [
    "**✅ Expected Output:**\n",
    "Terminal prompt changes to `(venv)` — you're now inside your Python sandbox."
   ]
  }
 ],
 "metadata": {},
 "nbformat": 4,
 "nbformat_minor": 5
}
