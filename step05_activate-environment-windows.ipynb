{
 "cells": [
  {
   "cell_type": "markdown",
   "id": "1b0f058b",
   "metadata": {},
   "source": [
    "### ▶️ Step 5: Activate the Virtual Environment (Windows)"
   ]
  },
  {
   "cell_type": "markdown",
   "id": "9e51ad4c",
   "metadata": {},
   "source": [
    "🖥️ On Windows? No problem.\n",
    "\n",
    "Use this command to activate the virtual environment just like Samih does on his Surface Pro."
   ]
  },
  {
   "cell_type": "code",
   "execution_count": null,
   "id": "c0f0787b",
   "metadata": {},
   "outputs": [],
   "source": [
    "venv\\Scripts\\activate"
   ]
  },
  {
   "cell_type": "markdown",
   "id": "0f273883",
   "metadata": {},
   "source": [
    "**✅ Expected Output:**\n",
    "Your terminal will show `(venv)` — you’re good to go."
   ]
  }
 ],
 "metadata": {},
 "nbformat": 4,
 "nbformat_minor": 5
}
