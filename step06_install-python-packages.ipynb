{
 "cells": [
  {
   "cell_type": "markdown",
   "id": "2cd1d256",
   "metadata": {},
   "source": [
    "### 📦 Step 6: Install Python Packages"
   ]
  },
  {
   "cell_type": "markdown",
   "id": "eff7b6a5",
   "metadata": {},
   "source": [
    "🛠️ What good is an environment without tools?\n",
    "\n",
    "Install `pandas` and `matplotlib` — or any other packages your project needs. These stay _inside_ your environment.\n",
    "\n",
    "Samih likes to install _only what he needs_, nothing more."
   ]
  },
  {
   "cell_type": "code",
   "execution_count": null,
   "id": "12ad15f6",
   "metadata": {},
   "outputs": [],
   "source": [
    "pip install pandas matplotlib"
   ]
  },
  {
   "cell_type": "markdown",
   "id": "eda90f64",
   "metadata": {},
   "source": [
    "**✅ Expected Output:**\n",
    "Confirmation logs for each package and its dependencies."
   ]
  }
 ],
 "metadata": {},
 "nbformat": 4,
 "nbformat_minor": 5
}
