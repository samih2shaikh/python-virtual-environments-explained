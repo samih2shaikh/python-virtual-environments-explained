{
 "cells": [
  {
   "cell_type": "markdown",
   "id": "58773a2c",
   "metadata": {},
   "source": [
    "### 📜 Step 7: Freeze Environment to `requirements.txt`"
   ]
  },
  {
   "cell_type": "markdown",
   "id": "7cd5d77e",
   "metadata": {},
   "source": [
    "💾 You just crafted the perfect environment. Samih says: _“If it works today, make sure it works tomorrow.”_\n",
    "\n",
    "So, freeze it! Save every package + version in a neat file."
   ]
  },
  {
   "cell_type": "code",
   "execution_count": null,
   "id": "2af963ce",
   "metadata": {},
   "outputs": [],
   "source": [
    "pip freeze > requirements.txt"
   ]
  },
  {
   "cell_type": "markdown",
   "id": "135c38a1",
   "metadata": {},
   "source": [
    "**✅ Expected Output:**\n",
    "You now have a `requirements.txt` file — your project's fingerprint."
   ]
  }
 ],
 "metadata": {},
 "nbformat": 4,
 "nbformat_minor": 5
}
