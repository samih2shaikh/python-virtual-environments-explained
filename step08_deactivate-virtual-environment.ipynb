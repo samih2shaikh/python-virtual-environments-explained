{
 "cells": [
  {
   "cell_type": "markdown",
   "id": "6d9234fe",
   "metadata": {},
   "source": [
    "### 💤 Step 8: Deactivate the Virtual Environment"
   ]
  },
  {
   "cell_type": "markdown",
   "id": "ba097ffc",
   "metadata": {},
   "source": [
    "👋 Done for the day? Samih always ends his work sessions by deactivating his virtual environment.\n",
    "\n",
    "Why? Keeps your global Python clean, avoids unintentional installs."
   ]
  },
  {
   "cell_type": "code",
   "execution_count": null,
   "id": "2b8c4a02",
   "metadata": {},
   "outputs": [],
   "source": [
    "deactivate"
   ]
  },
  {
   "cell_type": "markdown",
   "id": "4d85c908",
   "metadata": {},
   "source": [
    "**✅ Expected Output:**\n",
    "Terminal prompt returns to normal. Clean exit."
   ]
  }
 ],
 "metadata": {},
 "nbformat": 4,
 "nbformat_minor": 5
}
