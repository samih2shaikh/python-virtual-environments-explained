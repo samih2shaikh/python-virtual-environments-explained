{
 "cells": [
  {
   "cell_type": "markdown",
   "id": "adb60a10",
   "metadata": {},
   "source": [
    "### 🔁 Step 9: Recreate Environment from `requirements.txt`"
   ]
  },
  {
   "cell_type": "markdown",
   "id": "794e7d7b",
   "metadata": {},
   "source": [
    "🚀 You’re now sharing your code with a teammate — maybe even Vineeta. She runs these 3 lines and BOOM 💥 — exact same environment.\n",
    "\n",
    "This is what clean handoffs look like in the real world."
   ]
  },
  {
   "cell_type": "code",
   "execution_count": null,
   "id": "c866cfab",
   "metadata": {},
   "outputs": [],
   "source": [
    "python3 -m venv venv_vineeta\n",
    "source venv_vineeta/bin/activate\n",
    "pip install -r requirements.txt"
   ]
  },
  {
   "cell_type": "markdown",
   "id": "c549a162",
   "metadata": {},
   "source": [
    "**✅ Expected Output:**\n",
    "Your dependencies install and match perfectly. No surprises."
   ]
  }
 ],
 "metadata": {
  "language_info": {
   "name": "python"
  }
 },
 "nbformat": 4,
 "nbformat_minor": 5
}
